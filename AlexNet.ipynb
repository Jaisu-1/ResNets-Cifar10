{
  "nbformat": 4,
  "nbformat_minor": 0,
  "metadata": {
    "colab": {
      "name": "AlexNet.ipynb",
      "provenance": [],
      "include_colab_link": true
    },
    "kernelspec": {
      "name": "python3",
      "display_name": "Python 3"
    },
    "accelerator": "GPU"
  },
  "cells": [
    {
      "cell_type": "markdown",
      "metadata": {
        "id": "view-in-github",
        "colab_type": "text"
      },
      "source": [
        "<a href=\"https://colab.research.google.com/github/Jaisu-1/ResNets-Cifar10/blob/master/AlexNet.ipynb\" target=\"_parent\"><img src=\"https://colab.research.google.com/assets/colab-badge.svg\" alt=\"Open In Colab\"/></a>"
      ]
    },
    {
      "cell_type": "code",
      "metadata": {
        "id": "k6A3WjQ9x4uR",
        "colab_type": "code",
        "colab": {}
      },
      "source": [
        "import os\n",
        "import time\n",
        "\n",
        "import numpy as np\n",
        "import pandas as pd\n",
        "\n",
        "import torch\n",
        "import torch.nn as nn\n",
        "import torch.nn.functional as F\n",
        "from torch.utils.data import DataLoader\n",
        "from torch.utils.data.dataset import Subset\n",
        "\n",
        "from torchvision import datasets\n",
        "from torchvision import transforms\n",
        "\n",
        "import matplotlib.pyplot as plt\n",
        "from PIL import Image\n",
        "\n",
        "\n",
        "if torch.cuda.is_available():\n",
        "    torch.backends.cudnn.deterministic = True"
      ],
      "execution_count": 0,
      "outputs": []
    },
    {
      "cell_type": "code",
      "metadata": {
        "id": "XC3_uOd61D0B",
        "colab_type": "code",
        "outputId": "8c2da100-581c-43e4-a821-fd8462840067",
        "colab": {
          "base_uri": "https://localhost:8080/",
          "height": 35
        }
      },
      "source": [
        "device = 'cuda'\n",
        "torch.cuda.is_available()"
      ],
      "execution_count": 0,
      "outputs": [
        {
          "output_type": "execute_result",
          "data": {
            "text/plain": [
              "True"
            ]
          },
          "metadata": {
            "tags": []
          },
          "execution_count": 4
        }
      ]
    },
    {
      "cell_type": "code",
      "metadata": {
        "id": "tIQq9VXWzyoE",
        "colab_type": "code",
        "colab": {}
      },
      "source": [
        "# Hyperparameters\n",
        "RANDOM_SEED = 1\n",
        "LEARNING_RATE = 0.0001\n",
        "BATCH_SIZE = 256\n",
        "NUM_EPOCHS = 40\n",
        "\n",
        "# Architecture\n",
        "NUM_CLASSES = 10\n",
        "\n",
        "# Other\n",
        "DEVICE = \"cuda:0\""
      ],
      "execution_count": 0,
      "outputs": []
    },
    {
      "cell_type": "code",
      "metadata": {
        "id": "XFzr8F7Wz1Ka",
        "colab_type": "code",
        "outputId": "6da6605b-940c-4c17-ec1d-4094a1758c73",
        "colab": {
          "base_uri": "https://localhost:8080/",
          "height": 35
        }
      },
      "source": [
        "train_indices = torch.arange(0, 48000)\n",
        "valid_indices = torch.arange(48000, 50000)\n",
        "\n",
        "\n",
        "train_transform = transforms.Compose([transforms.Resize((70, 70)),\n",
        "                                      transforms.RandomCrop((64, 64)),\n",
        "                                      transforms.ToTensor()])\n",
        "\n",
        "test_transform = transforms.Compose([transforms.Resize((70, 70)),\n",
        "                                     transforms.CenterCrop((64, 64)),\n",
        "                                     transforms.ToTensor()])\n",
        "\n",
        "train_and_valid = datasets.CIFAR10(root='data', \n",
        "                                   train=True, \n",
        "                                   transform=train_transform,\n",
        "                                   download=True)\n",
        "\n",
        "train_dataset = Subset(train_and_valid, train_indices)\n",
        "valid_dataset = Subset(train_and_valid, valid_indices)\n",
        "test_dataset = datasets.CIFAR10(root='data', \n",
        "                                train=False, \n",
        "                                transform=test_transform,\n",
        "                                download=False)\n",
        "\n",
        "\n",
        "\n",
        "\n",
        "train_loader = DataLoader(dataset=train_dataset, \n",
        "                          batch_size=BATCH_SIZE,\n",
        "                          num_workers=4,\n",
        "                          shuffle=True)\n",
        "\n",
        "valid_loader = DataLoader(dataset=valid_dataset, \n",
        "                          batch_size=BATCH_SIZE,\n",
        "                          num_workers=4,\n",
        "                          shuffle=False)\n",
        "\n",
        "test_loader = DataLoader(dataset=test_dataset, \n",
        "                         batch_size=BATCH_SIZE,\n",
        "                         num_workers=4,\n",
        "                         shuffle=False)"
      ],
      "execution_count": 0,
      "outputs": [
        {
          "output_type": "stream",
          "text": [
            "Files already downloaded and verified\n"
          ],
          "name": "stdout"
        }
      ]
    },
    {
      "cell_type": "code",
      "metadata": {
        "id": "KTc9wf40z7KB",
        "colab_type": "code",
        "outputId": "e663e2cf-4e4b-4e76-a005-ad54ea1de6b1",
        "colab": {
          "base_uri": "https://localhost:8080/",
          "height": 229
        }
      },
      "source": [
        "# Checking the dataset\n",
        "print('Training Set:\\n')\n",
        "for images, labels in train_loader:  \n",
        "    print('Image batch dimensions:', images.size())\n",
        "    print('Image label dimensions:', labels.size())\n",
        "    break\n",
        "    \n",
        "# Checking the dataset\n",
        "print('\\nValidation Set:')\n",
        "for images, labels in valid_loader:  \n",
        "    print('Image batch dimensions:', images.size())\n",
        "    print('Image label dimensions:', labels.size())\n",
        "    break\n",
        "\n",
        "# Checking the dataset\n",
        "print('\\nTesting Set:')\n",
        "for images, labels in train_loader:  \n",
        "    print('Image batch dimensions:', images.size())\n",
        "    print('Image label dimensions:', labels.size())\n",
        "    break"
      ],
      "execution_count": 0,
      "outputs": [
        {
          "output_type": "stream",
          "text": [
            "Training Set:\n",
            "\n",
            "Image batch dimensions: torch.Size([256, 3, 64, 64])\n",
            "Image label dimensions: torch.Size([256])\n",
            "\n",
            "Validation Set:\n",
            "Image batch dimensions: torch.Size([256, 3, 64, 64])\n",
            "Image label dimensions: torch.Size([256])\n",
            "\n",
            "Testing Set:\n",
            "Image batch dimensions: torch.Size([256, 3, 64, 64])\n",
            "Image label dimensions: torch.Size([256])\n"
          ],
          "name": "stdout"
        }
      ]
    },
    {
      "cell_type": "code",
      "metadata": {
        "id": "KIZnU1VY0ChC",
        "colab_type": "code",
        "colab": {}
      },
      "source": [
        "class AlexNet(nn.Module):\n",
        "\n",
        "    def __init__(self, num_classes):\n",
        "        super(AlexNet, self).__init__()\n",
        "        self.features = nn.Sequential(\n",
        "            nn.Conv2d(3, 64, kernel_size=11, stride=4, padding=2),\n",
        "            nn.ReLU(inplace=True),\n",
        "            nn.MaxPool2d(kernel_size=3, stride=2),\n",
        "            nn.Conv2d(64, 192, kernel_size=5, padding=2),\n",
        "            nn.ReLU(inplace=True),\n",
        "            nn.MaxPool2d(kernel_size=3, stride=2),\n",
        "            nn.Conv2d(192, 384, kernel_size=3, padding=1),\n",
        "            nn.ReLU(inplace=True),\n",
        "            nn.Conv2d(384, 256, kernel_size=3, padding=1),\n",
        "            nn.ReLU(inplace=True),\n",
        "            nn.Conv2d(256, 256, kernel_size=3, padding=1),\n",
        "            nn.ReLU(inplace=True),\n",
        "            nn.MaxPool2d(kernel_size=3, stride=2),\n",
        "        )\n",
        "        self.avgpool = nn.AdaptiveAvgPool2d((6, 6))\n",
        "        self.classifier = nn.Sequential(\n",
        "            nn.Dropout(0.5),\n",
        "            nn.Linear(256 * 6 * 6, 4096),\n",
        "            nn.ReLU(inplace=True),\n",
        "            nn.Dropout(0.5),\n",
        "            nn.Linear(4096, 4096),\n",
        "            nn.ReLU(inplace=True),\n",
        "            nn.Linear(4096, num_classes)\n",
        "        )\n",
        "\n",
        "    def forward(self, x):\n",
        "        x = self.features(x)\n",
        "        x = self.avgpool(x)\n",
        "        x = x.view(x.size(0), 256 * 6 * 6)\n",
        "        logits = self.classifier(x)\n",
        "        probas = F.softmax(logits, dim=1)\n",
        "        return logits, probas"
      ],
      "execution_count": 0,
      "outputs": []
    },
    {
      "cell_type": "code",
      "metadata": {
        "id": "KKcwT-0G0KDd",
        "colab_type": "code",
        "colab": {}
      },
      "source": [
        "torch.manual_seed(RANDOM_SEED)\n",
        "\n",
        "model = AlexNet(NUM_CLASSES)\n",
        "model.to(DEVICE)\n",
        "\n",
        "optimizer = torch.optim.Adam(model.parameters(), lr=LEARNING_RATE)"
      ],
      "execution_count": 0,
      "outputs": []
    },
    {
      "cell_type": "code",
      "metadata": {
        "id": "Esjdpn2_0uKV",
        "colab_type": "code",
        "outputId": "5c3fd25f-fe94-4ed3-c6b3-ba18427e8c90",
        "colab": {
          "base_uri": "https://localhost:8080/",
          "height": 1000
        }
      },
      "source": [
        "def compute_acc(model, data_loader, device):\n",
        "    correct_pred, num_examples = 0, 0\n",
        "    model.eval()\n",
        "    for i, (features, targets) in enumerate(data_loader):\n",
        "            \n",
        "        features = features.to(device)\n",
        "        targets = targets.to(device)\n",
        "\n",
        "        logits, probas = model(features)\n",
        "        _, predicted_labels = torch.max(probas, 1)\n",
        "        num_examples += targets.size(0)\n",
        "        assert predicted_labels.size() == targets.size()\n",
        "        correct_pred += (predicted_labels == targets).sum()\n",
        "    return correct_pred.float()/num_examples * 100\n",
        "    \n",
        "\n",
        "start_time = time.time()\n",
        "\n",
        "cost_list = []\n",
        "train_acc_list, valid_acc_list = [], []\n",
        "\n",
        "\n",
        "for epoch in range(NUM_EPOCHS):\n",
        "    \n",
        "    model.train()\n",
        "    for batch_idx, (features, targets) in enumerate(train_loader):\n",
        "        \n",
        "        features = features.to(DEVICE)\n",
        "        targets = targets.to(DEVICE)\n",
        "            \n",
        "        ### FORWARD AND BACK PROP\n",
        "        logits, probas = model(features)\n",
        "        cost = F.cross_entropy(logits, targets)\n",
        "        optimizer.zero_grad()\n",
        "        \n",
        "        cost.backward()\n",
        "        \n",
        "        ### UPDATE MODEL PARAMETERS\n",
        "        optimizer.step()\n",
        "        \n",
        "        #################################################\n",
        "        ### CODE ONLY FOR LOGGING BEYOND THIS POINT\n",
        "        ################################################\n",
        "        cost_list.append(cost.item())\n",
        "        if not batch_idx % 150:\n",
        "            print (f'Epoch: {epoch+1:03d}/{NUM_EPOCHS:03d} | '\n",
        "                   f'Batch {batch_idx:03d}/{len(train_loader):03d} |' \n",
        "                   f' Cost: {cost:.4f}')\n",
        "\n",
        "        \n",
        "\n",
        "    model.eval()\n",
        "    with torch.set_grad_enabled(False): # save memory during inference\n",
        "        \n",
        "        train_acc = compute_acc(model, train_loader, device=DEVICE)\n",
        "        valid_acc = compute_acc(model, valid_loader, device=DEVICE)\n",
        "        \n",
        "        print(f'Epoch: {epoch+1:03d}/{NUM_EPOCHS:03d}\\n'\n",
        "              f'Train ACC: {train_acc:.2f} | Validation ACC: {valid_acc:.2f}')\n",
        "        \n",
        "        train_acc_list.append(train_acc)\n",
        "        valid_acc_list.append(valid_acc)\n",
        "        \n",
        "    elapsed = (time.time() - start_time)/60\n",
        "    print(f'Time elapsed: {elapsed:.2f} min')\n",
        "  \n",
        "elapsed = (time.time() - start_time)/60\n",
        "print(f'Total Training Time: {elapsed:.2f} min')"
      ],
      "execution_count": 0,
      "outputs": [
        {
          "output_type": "stream",
          "text": [
            "Epoch: 001/040 | Batch 000/188 | Cost: 2.3028\n",
            "Epoch: 001/040 | Batch 150/188 | Cost: 1.7150\n",
            "Epoch: 001/040\n",
            "Train ACC: 32.38 | Validation ACC: 31.70\n",
            "Time elapsed: 0.51 min\n",
            "Epoch: 002/040 | Batch 000/188 | Cost: 1.7091\n",
            "Epoch: 002/040 | Batch 150/188 | Cost: 1.5775\n",
            "Epoch: 002/040\n",
            "Train ACC: 45.36 | Validation ACC: 45.80\n",
            "Time elapsed: 1.02 min\n",
            "Epoch: 003/040 | Batch 000/188 | Cost: 1.4383\n",
            "Epoch: 003/040 | Batch 150/188 | Cost: 1.4720\n",
            "Epoch: 003/040\n",
            "Train ACC: 52.43 | Validation ACC: 51.95\n",
            "Time elapsed: 1.53 min\n",
            "Epoch: 004/040 | Batch 000/188 | Cost: 1.3928\n",
            "Epoch: 004/040 | Batch 150/188 | Cost: 1.2750\n",
            "Epoch: 004/040\n",
            "Train ACC: 57.55 | Validation ACC: 57.10\n",
            "Time elapsed: 2.04 min\n",
            "Epoch: 005/040 | Batch 000/188 | Cost: 1.0782\n",
            "Epoch: 005/040 | Batch 150/188 | Cost: 1.1286\n",
            "Epoch: 005/040\n",
            "Train ACC: 61.80 | Validation ACC: 61.25\n",
            "Time elapsed: 2.55 min\n",
            "Epoch: 006/040 | Batch 000/188 | Cost: 1.0204\n",
            "Epoch: 006/040 | Batch 150/188 | Cost: 1.0620\n",
            "Epoch: 006/040\n",
            "Train ACC: 62.41 | Validation ACC: 61.75\n",
            "Time elapsed: 3.06 min\n",
            "Epoch: 007/040 | Batch 000/188 | Cost: 1.0431\n",
            "Epoch: 007/040 | Batch 150/188 | Cost: 1.0323\n",
            "Epoch: 007/040\n",
            "Train ACC: 65.89 | Validation ACC: 64.25\n",
            "Time elapsed: 3.57 min\n",
            "Epoch: 008/040 | Batch 000/188 | Cost: 1.0755\n",
            "Epoch: 008/040 | Batch 150/188 | Cost: 0.8886\n",
            "Epoch: 008/040\n",
            "Train ACC: 66.61 | Validation ACC: 66.10\n",
            "Time elapsed: 4.08 min\n",
            "Epoch: 009/040 | Batch 000/188 | Cost: 0.9461\n",
            "Epoch: 009/040 | Batch 150/188 | Cost: 0.7461\n",
            "Epoch: 009/040\n",
            "Train ACC: 70.68 | Validation ACC: 67.20\n",
            "Time elapsed: 4.59 min\n",
            "Epoch: 010/040 | Batch 000/188 | Cost: 0.7602\n",
            "Epoch: 010/040 | Batch 150/188 | Cost: 0.7927\n",
            "Epoch: 010/040\n",
            "Train ACC: 72.13 | Validation ACC: 68.90\n",
            "Time elapsed: 5.09 min\n",
            "Epoch: 011/040 | Batch 000/188 | Cost: 0.7938\n",
            "Epoch: 011/040 | Batch 150/188 | Cost: 0.7701\n",
            "Epoch: 011/040\n",
            "Train ACC: 73.20 | Validation ACC: 69.00\n",
            "Time elapsed: 5.60 min\n",
            "Epoch: 012/040 | Batch 000/188 | Cost: 0.7008\n",
            "Epoch: 012/040 | Batch 150/188 | Cost: 0.9219\n",
            "Epoch: 012/040\n",
            "Train ACC: 75.95 | Validation ACC: 69.70\n",
            "Time elapsed: 6.11 min\n",
            "Epoch: 013/040 | Batch 000/188 | Cost: 0.6396\n",
            "Epoch: 013/040 | Batch 150/188 | Cost: 0.6736\n",
            "Epoch: 013/040\n",
            "Train ACC: 78.10 | Validation ACC: 70.80\n",
            "Time elapsed: 6.62 min\n",
            "Epoch: 014/040 | Batch 000/188 | Cost: 0.6384\n",
            "Epoch: 014/040 | Batch 150/188 | Cost: 0.6315\n",
            "Epoch: 014/040\n",
            "Train ACC: 78.39 | Validation ACC: 71.60\n",
            "Time elapsed: 7.13 min\n",
            "Epoch: 015/040 | Batch 000/188 | Cost: 0.6078\n",
            "Epoch: 015/040 | Batch 150/188 | Cost: 0.8047\n",
            "Epoch: 015/040\n",
            "Train ACC: 79.54 | Validation ACC: 71.10\n",
            "Time elapsed: 7.64 min\n",
            "Epoch: 016/040 | Batch 000/188 | Cost: 0.7112\n",
            "Epoch: 016/040 | Batch 150/188 | Cost: 0.5460\n",
            "Epoch: 016/040\n",
            "Train ACC: 80.79 | Validation ACC: 70.40\n",
            "Time elapsed: 8.15 min\n",
            "Epoch: 017/040 | Batch 000/188 | Cost: 0.5900\n",
            "Epoch: 017/040 | Batch 150/188 | Cost: 0.5732\n",
            "Epoch: 017/040\n",
            "Train ACC: 83.19 | Validation ACC: 72.15\n",
            "Time elapsed: 8.66 min\n",
            "Epoch: 018/040 | Batch 000/188 | Cost: 0.4973\n",
            "Epoch: 018/040 | Batch 150/188 | Cost: 0.4567\n",
            "Epoch: 018/040\n",
            "Train ACC: 82.98 | Validation ACC: 71.90\n",
            "Time elapsed: 9.17 min\n",
            "Epoch: 019/040 | Batch 000/188 | Cost: 0.4819\n",
            "Epoch: 019/040 | Batch 150/188 | Cost: 0.4989\n",
            "Epoch: 019/040\n",
            "Train ACC: 85.27 | Validation ACC: 72.15\n",
            "Time elapsed: 9.68 min\n",
            "Epoch: 020/040 | Batch 000/188 | Cost: 0.4288\n",
            "Epoch: 020/040 | Batch 150/188 | Cost: 0.3886\n",
            "Epoch: 020/040\n",
            "Train ACC: 87.08 | Validation ACC: 74.25\n",
            "Time elapsed: 10.19 min\n",
            "Epoch: 021/040 | Batch 000/188 | Cost: 0.4047\n",
            "Epoch: 021/040 | Batch 150/188 | Cost: 0.5063\n",
            "Epoch: 021/040\n",
            "Train ACC: 87.46 | Validation ACC: 74.00\n",
            "Time elapsed: 10.70 min\n",
            "Epoch: 022/040 | Batch 000/188 | Cost: 0.4049\n",
            "Epoch: 022/040 | Batch 150/188 | Cost: 0.3497\n",
            "Epoch: 022/040\n",
            "Train ACC: 88.62 | Validation ACC: 72.00\n",
            "Time elapsed: 11.21 min\n",
            "Epoch: 023/040 | Batch 000/188 | Cost: 0.3010\n",
            "Epoch: 023/040 | Batch 150/188 | Cost: 0.4002\n",
            "Epoch: 023/040\n",
            "Train ACC: 90.06 | Validation ACC: 73.95\n",
            "Time elapsed: 11.72 min\n",
            "Epoch: 024/040 | Batch 000/188 | Cost: 0.3040\n",
            "Epoch: 024/040 | Batch 150/188 | Cost: 0.4010\n",
            "Epoch: 024/040\n",
            "Train ACC: 90.71 | Validation ACC: 73.20\n",
            "Time elapsed: 12.23 min\n",
            "Epoch: 025/040 | Batch 000/188 | Cost: 0.2049\n",
            "Epoch: 025/040 | Batch 150/188 | Cost: 0.3291\n",
            "Epoch: 025/040\n",
            "Train ACC: 90.84 | Validation ACC: 72.15\n",
            "Time elapsed: 12.73 min\n",
            "Epoch: 026/040 | Batch 000/188 | Cost: 0.2793\n",
            "Epoch: 026/040 | Batch 150/188 | Cost: 0.3879\n",
            "Epoch: 026/040\n",
            "Train ACC: 91.00 | Validation ACC: 73.75\n",
            "Time elapsed: 13.24 min\n",
            "Epoch: 027/040 | Batch 000/188 | Cost: 0.2951\n",
            "Epoch: 027/040 | Batch 150/188 | Cost: 0.2654\n",
            "Epoch: 027/040\n",
            "Train ACC: 91.28 | Validation ACC: 72.35\n",
            "Time elapsed: 13.75 min\n",
            "Epoch: 028/040 | Batch 000/188 | Cost: 0.2679\n",
            "Epoch: 028/040 | Batch 150/188 | Cost: 0.2585\n",
            "Epoch: 028/040\n",
            "Train ACC: 93.46 | Validation ACC: 72.30\n",
            "Time elapsed: 14.26 min\n",
            "Epoch: 029/040 | Batch 000/188 | Cost: 0.1676\n",
            "Epoch: 029/040 | Batch 150/188 | Cost: 0.2184\n",
            "Epoch: 029/040\n",
            "Train ACC: 93.09 | Validation ACC: 72.40\n",
            "Time elapsed: 14.77 min\n",
            "Epoch: 030/040 | Batch 000/188 | Cost: 0.1518\n",
            "Epoch: 030/040 | Batch 150/188 | Cost: 0.1950\n",
            "Epoch: 030/040\n",
            "Train ACC: 93.79 | Validation ACC: 72.95\n",
            "Time elapsed: 15.28 min\n",
            "Epoch: 031/040 | Batch 000/188 | Cost: 0.1990\n",
            "Epoch: 031/040 | Batch 150/188 | Cost: 0.2045\n",
            "Epoch: 031/040\n",
            "Train ACC: 94.94 | Validation ACC: 72.55\n",
            "Time elapsed: 15.79 min\n",
            "Epoch: 032/040 | Batch 000/188 | Cost: 0.1539\n",
            "Epoch: 032/040 | Batch 150/188 | Cost: 0.2123\n",
            "Epoch: 032/040\n",
            "Train ACC: 94.44 | Validation ACC: 72.35\n",
            "Time elapsed: 16.30 min\n",
            "Epoch: 033/040 | Batch 000/188 | Cost: 0.1391\n",
            "Epoch: 033/040 | Batch 150/188 | Cost: 0.1589\n",
            "Epoch: 033/040\n",
            "Train ACC: 93.48 | Validation ACC: 71.95\n",
            "Time elapsed: 16.81 min\n",
            "Epoch: 034/040 | Batch 000/188 | Cost: 0.1543\n",
            "Epoch: 034/040 | Batch 150/188 | Cost: 0.1709\n",
            "Epoch: 034/040\n",
            "Train ACC: 95.12 | Validation ACC: 73.35\n",
            "Time elapsed: 17.32 min\n",
            "Epoch: 035/040 | Batch 000/188 | Cost: 0.1666\n",
            "Epoch: 035/040 | Batch 150/188 | Cost: 0.1523\n",
            "Epoch: 035/040\n",
            "Train ACC: 96.32 | Validation ACC: 73.75\n",
            "Time elapsed: 17.83 min\n",
            "Epoch: 036/040 | Batch 000/188 | Cost: 0.1200\n",
            "Epoch: 036/040 | Batch 150/188 | Cost: 0.1781\n",
            "Epoch: 036/040\n",
            "Train ACC: 93.91 | Validation ACC: 72.70\n",
            "Time elapsed: 18.34 min\n",
            "Epoch: 037/040 | Batch 000/188 | Cost: 0.1772\n",
            "Epoch: 037/040 | Batch 150/188 | Cost: 0.1422\n",
            "Epoch: 037/040\n",
            "Train ACC: 95.74 | Validation ACC: 73.75\n",
            "Time elapsed: 18.85 min\n",
            "Epoch: 038/040 | Batch 000/188 | Cost: 0.1461\n",
            "Epoch: 038/040 | Batch 150/188 | Cost: 0.1433\n",
            "Epoch: 038/040\n",
            "Train ACC: 95.81 | Validation ACC: 73.60\n",
            "Time elapsed: 19.36 min\n",
            "Epoch: 039/040 | Batch 000/188 | Cost: 0.1041\n",
            "Epoch: 039/040 | Batch 150/188 | Cost: 0.0882\n",
            "Epoch: 039/040\n",
            "Train ACC: 96.60 | Validation ACC: 73.15\n",
            "Time elapsed: 19.87 min\n",
            "Epoch: 040/040 | Batch 000/188 | Cost: 0.1099\n",
            "Epoch: 040/040 | Batch 150/188 | Cost: 0.1332\n",
            "Epoch: 040/040\n",
            "Train ACC: 97.23 | Validation ACC: 74.05\n",
            "Time elapsed: 20.38 min\n",
            "Total Training Time: 20.38 min\n"
          ],
          "name": "stdout"
        }
      ]
    },
    {
      "cell_type": "code",
      "metadata": {
        "id": "7Zgkk0P95ZDJ",
        "colab_type": "code",
        "colab": {}
      },
      "source": [
        "import matplotlib.pyplot as plt\n",
        "%matplotlib inline"
      ],
      "execution_count": 0,
      "outputs": []
    },
    {
      "cell_type": "code",
      "metadata": {
        "id": "o4aivUdw5b1h",
        "colab_type": "code",
        "outputId": "213295e3-5dca-49c1-c5f9-b73bc5984b68",
        "colab": {
          "base_uri": "https://localhost:8080/",
          "height": 35
        }
      },
      "source": [
        "next(model.parameters()).is_cuda"
      ],
      "execution_count": 0,
      "outputs": [
        {
          "output_type": "execute_result",
          "data": {
            "text/plain": [
              "True"
            ]
          },
          "metadata": {
            "tags": []
          },
          "execution_count": 12
        }
      ]
    },
    {
      "cell_type": "code",
      "metadata": {
        "id": "wqR8lD0u5dsi",
        "colab_type": "code",
        "outputId": "849a0eb5-b50a-4897-a19f-6f989241a8c6",
        "colab": {
          "base_uri": "https://localhost:8080/",
          "height": 279
        }
      },
      "source": [
        "plt.plot(cost_list, label='Minibatch cost')\n",
        "plt.plot(np.convolve(cost_list, \n",
        "                     np.ones(200,)/200, mode='valid'), \n",
        "         label='Running average')\n",
        "\n",
        "plt.ylabel('Cross Entropy')\n",
        "plt.xlabel('Iteration')\n",
        "plt.legend()\n",
        "plt.show()"
      ],
      "execution_count": 0,
      "outputs": [
        {
          "output_type": "display_data",
          "data": {
            "image/png": "[encoded data removed]",
            "text/plain": [
              "<Figure size 432x288 with 1 Axes>"
            ]
          },
          "metadata": {
            "tags": [],
            "needs_background": "light"
          }
        }
      ]
    },
    {
      "cell_type": "code",
      "metadata": {
        "id": "0xaMe2SE5rSa",
        "colab_type": "code",
        "outputId": "077050fd-76bd-4597-83ba-a51dcbd3e763",
        "colab": {
          "base_uri": "https://localhost:8080/",
          "height": 282
        }
      },
      "source": [
        "plt.plot(np.arange(1, NUM_EPOCHS+1), train_acc_list, label='Training')\n",
        "plt.plot(np.arange(1, NUM_EPOCHS+1), valid_acc_list, label='Validation')\n",
        "\n",
        "plt.xlabel('Epoch')\n",
        "plt.ylabel('Accuracy')\n",
        "plt.legend()\n",
        "plt.show()"
      ],
      "execution_count": 0,
      "outputs": [
        {
          "output_type": "display_data",
          "data": {
            "image/png": "[encoded data removed]",
            "text/plain": [
              "<Figure size 432x288 with 1 Axes>"
            ]
          },
          "metadata": {
            "tags": [],
            "needs_background": "light"
          }
        }
      ]
    },
    {
      "cell_type": "code",
      "metadata": {
        "id": "H_yLb8buCmIp",
        "colab_type": "code",
        "colab": {}
      },
      "source": [
        ""
      ],
      "execution_count": 0,
      "outputs": []
    },
    {
      "cell_type": "code",
      "metadata": {
        "id": "7OmB-nj55w5l",
        "colab_type": "code",
        "outputId": "26ea3d32-c524-4ce6-db76-baa7929503bf",
        "colab": {
          "base_uri": "https://localhost:8080/",
          "height": 52
        }
      },
      "source": [
        "with torch.set_grad_enabled(False):\n",
        "    test_acc = compute_acc(model=model,\n",
        "                           data_loader=test_loader,\n",
        "                           device=DEVICE)\n",
        "    \n",
        "    valid_acc = compute_acc(model=model,\n",
        "                            data_loader=valid_loader,\n",
        "                            device=DEVICE)\n",
        "    \n",
        "\n",
        "print(f'Validation ACC: {valid_acc:.2f}%')\n",
        "print(f'Test ACC: {test_acc:.2f}%')"
      ],
      "execution_count": 0,
      "outputs": [
        {
          "output_type": "stream",
          "text": [
            "Validation ACC: 73.10%\n",
            "Test ACC: 73.38%\n"
          ],
          "name": "stdout"
        }
      ]
    },
    {
      "cell_type": "code",
      "metadata": {
        "id": "N1zs8cGs701d",
        "colab_type": "code",
        "outputId": "d45c65c2-6cad-4eab-a261-ab804e36b087",
        "colab": {
          "base_uri": "https://localhost:8080/",
          "height": 35
        }
      },
      "source": [
        "print(\"!Done\")"
      ],
      "execution_count": 0,
      "outputs": [
        {
          "output_type": "stream",
          "text": [
            "!DOne\n"
          ],
          "name": "stdout"
        }
      ]
    },
    {
      "cell_type": "code",
      "metadata": {
        "id": "9BDEyrmfA_mJ",
        "colab_type": "code",
        "outputId": "ffab47b3-c9f8-4631-a126-39b8f8ca023e",
        "colab": {
          "base_uri": "https://localhost:8080/",
          "height": 618
        }
      },
      "source": [
        "from torchsummary import summary\n",
        "summary(model, (3, 64, 364))"
      ],
      "execution_count": 0,
      "outputs": [
        {
          "output_type": "stream",
          "text": [
            "----------------------------------------------------------------\n",
            "        Layer (type)               Output Shape         Param #\n",
            "================================================================\n",
            "            Conv2d-1           [-1, 64, 15, 90]          23,296\n",
            "              ReLU-2           [-1, 64, 15, 90]               0\n",
            "         MaxPool2d-3            [-1, 64, 7, 44]               0\n",
            "            Conv2d-4           [-1, 192, 7, 44]         307,392\n",
            "              ReLU-5           [-1, 192, 7, 44]               0\n",
            "         MaxPool2d-6           [-1, 192, 3, 21]               0\n",
            "            Conv2d-7           [-1, 384, 3, 21]         663,936\n",
            "              ReLU-8           [-1, 384, 3, 21]               0\n",
            "            Conv2d-9           [-1, 256, 3, 21]         884,992\n",
            "             ReLU-10           [-1, 256, 3, 21]               0\n",
            "           Conv2d-11           [-1, 256, 3, 21]         590,080\n",
            "             ReLU-12           [-1, 256, 3, 21]               0\n",
            "        MaxPool2d-13           [-1, 256, 1, 10]               0\n",
            "AdaptiveAvgPool2d-14            [-1, 256, 6, 6]               0\n",
            "          Dropout-15                 [-1, 9216]               0\n",
            "           Linear-16                 [-1, 4096]      37,752,832\n",
            "             ReLU-17                 [-1, 4096]               0\n",
            "          Dropout-18                 [-1, 4096]               0\n",
            "           Linear-19                 [-1, 4096]      16,781,312\n",
            "             ReLU-20                 [-1, 4096]               0\n",
            "           Linear-21                   [-1, 10]          40,970\n",
            "================================================================\n",
            "Total params: 57,044,810\n",
            "Trainable params: 57,044,810\n",
            "Non-trainable params: 0\n",
            "----------------------------------------------------------------\n",
            "Input size (MB): 0.27\n",
            "Forward/backward pass size (MB): 3.64\n",
            "Params size (MB): 217.61\n",
            "Estimated Total Size (MB): 221.52\n",
            "----------------------------------------------------------------\n"
          ],
          "name": "stdout"
        }
      ]
    },
    {
      "cell_type": "code",
      "metadata": {
        "id": "XpHH_eaJC01x",
        "colab_type": "code",
        "colab": {}
      },
      "source": [
        ""
      ],
      "execution_count": 0,
      "outputs": []
    },
    {
      "cell_type": "code",
      "metadata": {
        "id": "4AgCd2PQDDfQ",
        "colab_type": "code",
        "colab": {}
      },
      "source": [
        ""
      ],
      "execution_count": 0,
      "outputs": []
    },
    {
      "cell_type": "code",
      "metadata": {
        "id": "_CVB5VEzDSFJ",
        "colab_type": "code",
        "colab": {}
      },
      "source": [
        ""
      ],
      "execution_count": 0,
      "outputs": []
    },
    {
      "cell_type": "code",
      "metadata": {
        "id": "H3RQTUFZB6MH",
        "colab_type": "code",
        "colab": {}
      },
      "source": [
        ""
      ],
      "execution_count": 0,
      "outputs": []
    },
    {
      "cell_type": "code",
      "metadata": {
        "id": "JdT18TLhCI5U",
        "colab_type": "code",
        "colab": {}
      },
      "source": [
        ""
      ],
      "execution_count": 0,
      "outputs": []
    },
    {
      "cell_type": "code",
      "metadata": {
        "id": "4J_J2dROCXis",
        "colab_type": "code",
        "colab": {}
      },
      "source": [
        ""
      ],
      "execution_count": 0,
      "outputs": []
    },
    {
      "cell_type": "code",
      "metadata": {
        "id": "tgKoY1E2BOPp",
        "colab_type": "code",
        "colab": {}
      },
      "source": [
        ""
      ],
      "execution_count": 0,
      "outputs": []
    },
    {
      "cell_type": "code",
      "metadata": {
        "id": "PqaVFKscBc53",
        "colab_type": "code",
        "colab": {}
      },
      "source": [
        ""
      ],
      "execution_count": 0,
      "outputs": []
    }
  ]
}